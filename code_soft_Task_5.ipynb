{
  "nbformat": 4,
  "nbformat_minor": 0,
  "metadata": {
    "colab": {
      "provenance": []
    },
    "kernelspec": {
      "name": "python3",
      "display_name": "Python 3"
    },
    "language_info": {
      "name": "python"
    }
  },
  "cells": [
    {
      "cell_type": "code",
      "source": [
        "import numpy as np\n",
        "import tensorflow as tf\n",
        "import string\n",
        "\n",
        "# Generate synthetic text data\n",
        "def generate_text_data(length=100000):\n",
        "    chars = list(string.ascii_letters + \" \")\n",
        "    return ''.join(np.random.choice(chars, length))\n",
        "\n",
        "# Prepare the dataset\n",
        "def prepare_data(text, seq_length=40):\n",
        "    chars = sorted(list(set(text)))\n",
        "    char_to_int = {c: i for i, c in enumerate(chars)}\n",
        "    int_to_char = {i: c for i, c in enumerate(chars)}\n",
        "\n",
        "    X = []\n",
        "    y = []\n",
        "    for i in range(0, len(text) - seq_length):\n",
        "        X.append([char_to_int[c] for c in text[i:i+seq_length]])\n",
        "        y.append(char_to_int[text[i+seq_length]])\n",
        "\n",
        "    X = np.array(X)\n",
        "    y = np.array(y)\n",
        "\n",
        "    # One-hot encode the inputs and outputs\n",
        "    X = tf.keras.utils.to_categorical(X, num_classes=len(chars))\n",
        "    y = tf.keras.utils.to_categorical(y, num_classes=len(chars))\n",
        "\n",
        "    return X, y, char_to_int, int_to_char\n",
        "\n",
        "# Build the model\n",
        "def build_model(input_shape, num_classes):\n",
        "    model = tf.keras.Sequential([\n",
        "        tf.keras.layers.LSTM(128, input_shape=input_shape),\n",
        "        tf.keras.layers.Dense(num_classes, activation='softmax')\n",
        "    ])\n",
        "    model.compile(optimizer='adam', loss='categorical_crossentropy')\n",
        "    return model\n",
        "\n",
        "# Generate text with the model\n",
        "def generate_text(model, seed_text, char_to_int, int_to_char, length=200):\n",
        "    generated_text = seed_text\n",
        "    for _ in range(length):\n",
        "        X_pred = np.array([[char_to_int[c] for c in seed_text]])\n",
        "        X_pred = tf.keras.utils.to_categorical(X_pred, num_classes=len(char_to_int))\n",
        "\n",
        "        prediction = model.predict(X_pred, verbose=0)\n",
        "        next_char = int_to_char[np.argmax(prediction)]\n",
        "\n",
        "        seed_text += next_char\n",
        "        seed_text = seed_text[1:]\n",
        "        generated_text += next_char\n",
        "\n",
        "    return generated_text\n",
        "\n",
        "# Main script\n",
        "text = generate_text_data()\n",
        "seq_length = 40\n",
        "X, y, char_to_int, int_to_char = prepare_data(text, seq_length)\n",
        "\n",
        "model = build_model((seq_length, len(char_to_int)), len(char_to_int))\n",
        "model.fit(X, y, epochs=10, batch_size=128)\n",
        "\n",
        "# Generate new text\n",
        "seed_text = \"The quick brown fox \"\n",
        "print(generate_text(model, seed_text, char_to_int, int_to_char))\n"
      ],
      "metadata": {
        "colab": {
          "base_uri": "https://localhost:8080/"
        },
        "id": "tDjLEkbQOIuW",
        "outputId": "ce37ad2e-7ba4-4abd-b655-cb4cf6128d86"
      },
      "execution_count": null,
      "outputs": [
        {
          "output_type": "stream",
          "name": "stdout",
          "text": [
            "Epoch 1/10\n",
            "\u001b[1m781/781\u001b[0m \u001b[32m━━━━━━━━━━━━━━━━━━━━\u001b[0m\u001b[37m\u001b[0m \u001b[1m83s\u001b[0m 104ms/step - loss: 3.9713\n",
            "Epoch 2/10\n",
            "\u001b[1m781/781\u001b[0m \u001b[32m━━━━━━━━━━━━━━━━━━━━\u001b[0m\u001b[37m\u001b[0m \u001b[1m82s\u001b[0m 105ms/step - loss: 3.9665\n",
            "Epoch 3/10\n",
            "\u001b[1m781/781\u001b[0m \u001b[32m━━━━━━━━━━━━━━━━━━━━\u001b[0m\u001b[37m\u001b[0m \u001b[1m81s\u001b[0m 103ms/step - loss: 3.9622\n",
            "Epoch 4/10\n",
            "\u001b[1m781/781\u001b[0m \u001b[32m━━━━━━━━━━━━━━━━━━━━\u001b[0m\u001b[37m\u001b[0m \u001b[1m81s\u001b[0m 102ms/step - loss: 3.9568\n",
            "Epoch 5/10\n",
            "\u001b[1m781/781\u001b[0m \u001b[32m━━━━━━━━━━━━━━━━━━━━\u001b[0m\u001b[37m\u001b[0m \u001b[1m80s\u001b[0m 103ms/step - loss: 3.9518\n",
            "Epoch 6/10\n",
            "\u001b[1m781/781\u001b[0m \u001b[32m━━━━━━━━━━━━━━━━━━━━\u001b[0m\u001b[37m\u001b[0m \u001b[1m82s\u001b[0m 103ms/step - loss: 3.9442\n",
            "Epoch 7/10\n",
            "\u001b[1m781/781\u001b[0m \u001b[32m━━━━━━━━━━━━━━━━━━━━\u001b[0m\u001b[37m\u001b[0m \u001b[1m83s\u001b[0m 104ms/step - loss: 3.9359\n",
            "Epoch 8/10\n",
            "\u001b[1m781/781\u001b[0m \u001b[32m━━━━━━━━━━━━━━━━━━━━\u001b[0m\u001b[37m\u001b[0m \u001b[1m81s\u001b[0m 103ms/step - loss: 3.9252\n",
            "Epoch 9/10\n",
            "\u001b[1m781/781\u001b[0m \u001b[32m━━━━━━━━━━━━━━━━━━━━\u001b[0m\u001b[37m\u001b[0m \u001b[1m81s\u001b[0m 103ms/step - loss: 3.9137\n",
            "Epoch 10/10\n",
            "\u001b[1m781/781\u001b[0m \u001b[32m━━━━━━━━━━━━━━━━━━━━\u001b[0m\u001b[37m\u001b[0m \u001b[1m80s\u001b[0m 103ms/step - loss: 3.8983\n",
            "The quick brown fox GlNDJmeffIAAoAonnnBDYYhhhhWSSXUXkXEENtTrrWrrLRbRRFLDrQrLbLLLbLLbQcQItLLJLLKKGKGGErerMebqqSbqqS tGLLCWzYzPP qqSqnXddddxxxxxxccNNnnkkkYjjxxzuUEENZIPyyyAJWnddYYYhhhhhhBBDDYZDYaaZAAAerLLbLbLcKKKowwavLLAeA\n"
          ]
        }
      ]
    }
  ]
}